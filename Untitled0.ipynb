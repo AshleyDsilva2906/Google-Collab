{
  "nbformat": 4,
  "nbformat_minor": 0,
  "metadata": {
    "colab": {
      "name": "Untitled0.ipynb",
      "provenance": [],
      "collapsed_sections": [],
      "authorship_tag": "ABX9TyM4RNqNuIsJJFgaiy42dyLH",
      "include_colab_link": true
    },
    "kernelspec": {
      "name": "python3",
      "display_name": "Python 3"
    },
    "language_info": {
      "name": "python"
    }
  },
  "cells": [
    {
      "cell_type": "markdown",
      "metadata": {
        "id": "view-in-github",
        "colab_type": "text"
      },
      "source": [
        "<a href=\"https://colab.research.google.com/github/AshleyDsilva2906/Google-Collab/blob/main/Untitled0.ipynb\" target=\"_parent\"><img src=\"https://colab.research.google.com/assets/colab-badge.svg\" alt=\"Open In Colab\"/></a>"
      ]
    },
    {
      "cell_type": "code",
      "metadata": {
        "id": "InxUus43c4Op"
      },
      "source": [
        "import pandas as pd\n",
        "import plotly.express as pe\n",
        "\n",
        "df=pd.read_csv(\"/content/line_chart.csv\")\n",
        "figure=pe.line(df,x=\"Year\",y=\"Per capita income\",color=\"Country\",title=\"PCI of the countries\")\n",
        "figure.show()"
      ],
      "execution_count": null,
      "outputs": []
    },
    {
      "cell_type": "code",
      "metadata": {
        "id": "4CiUSoRkeVtQ"
      },
      "source": [
        "import pandas as pd\n",
        "import plotly.express as pe\n",
        "\n",
        "df=pd.read_csv(\"/content/data.csv\")\n",
        "figure=pe.bar(df,x=\"Country\",y=\"InternetUsers\",title=\"NetUsers of Countries\")\n",
        "figure.show()\n"
      ],
      "execution_count": null,
      "outputs": []
    },
    {
      "cell_type": "code",
      "metadata": {
        "id": "28VB6APMfHIp"
      },
      "source": [
        "import pandas as pd\n",
        "import plotly.express as pe\n",
        "\n",
        "df=pd.read_csv(\"/content/data.csv\")\n",
        "figure=pe.scatter(df,x=\"Population\",y=\"Per capita\",color=\"Country\",size=\"Percentage\")\n",
        "figure.show()"
      ],
      "execution_count": null,
      "outputs": []
    }
  ]
}